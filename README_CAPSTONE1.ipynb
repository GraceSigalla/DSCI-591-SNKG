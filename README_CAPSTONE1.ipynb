{
 "cells": [
  {
   "cell_type": "markdown",
   "id": "fb764451",
   "metadata": {},
   "source": [
    "## Suicidal Behavior Among Adolescents\n",
    "* This project is a part of the Data Capstone course at the College of Computing and Informatics, Drexel University.\n",
    "* Course : DSCI 591 - Data Science Capstone 1\n",
    "* Instuctor: Dr. Milad Toutounchian\n",
    "\n",
    "#### -- Project Status: [Completed]\n",
    "\n",
    "#### Team Members\n",
    "* Grace Sigalla (gas83@drexel.edu) \n",
    "* Sreerekha Rajendran (sr3547@drexel.edu)\n",
    "* Nick Babcock (nb987@drexel.edu)\n",
    "* Kunal Chhabria (kc3575@drexel.edu) \n",
    "\n",
    "### Project Objective\n",
    "\n",
    "Suicide is one of the leading concerns of health in the United States, especially adolescents. Suicidal thoughts among adolescents are quite high according to records, with approximately 20-30% of people in that age group reporting it at some point. Although there has been progress in the field of suicide prevention, little is known about how to recognize teenagers who may be at risk of such thoughts. This project aims to analyze and understand several factors among teenagers that lead to such thoughts.  \n",
    "\n",
    "The dataset that we are using in this project is created by the GSHS- Global School-based Student Health Survey of adolescents based on Gender from 26 countries. It is divided into ten main modules that cover the world's top causes of morbidity and death in both children and adults. Some of the modules are alcohol use, dietary behaviors, drug use, tobacco use, etc. \n",
    "\n",
    "The main deliverables of our project will be a final presentation and a detailed report highlighting some of the factors that could be the leading cause of suicidal thoughts in adolescents, including the methodologies and analytical methods we used to arrive at our findings. \n",
    "\n",
    "### Highlights\n",
    "* Data Cleaning\n",
    "* Exploratory Data Analysis\n",
    "* Diagnostic Anakysis\n",
    "\n",
    "\n",
    "## Featured Notebooks/Analysis/Deliverables\n",
    "* Capstone Project.ipynb\n",
    "* Final Project Report\n",
    "* Final Project Presentation"
   ]
  },
  {
   "cell_type": "code",
   "execution_count": null,
   "id": "61cf18a6",
   "metadata": {},
   "outputs": [],
   "source": []
  }
 ],
 "metadata": {
  "kernelspec": {
   "display_name": "Python 3",
   "language": "python",
   "name": "python3"
  },
  "language_info": {
   "codemirror_mode": {
    "name": "ipython",
    "version": 3
   },
   "file_extension": ".py",
   "mimetype": "text/x-python",
   "name": "python",
   "nbconvert_exporter": "python",
   "pygments_lexer": "ipython3",
   "version": "3.8.8"
  }
 },
 "nbformat": 4,
 "nbformat_minor": 5
}
